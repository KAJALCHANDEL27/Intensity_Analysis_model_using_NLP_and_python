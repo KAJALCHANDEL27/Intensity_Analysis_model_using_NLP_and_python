{
 "cells": [
  {
   "cell_type": "markdown",
   "id": "41ab5488",
   "metadata": {},
   "source": [
    "# deserialization is the reverse process (loading it back into memory).\n",
    "\n",
    "2. Loading Objects\n",
    "\n",
    "Next, the code demonstrates how to load the previously saved objects back into the program:\n"
   ]
  },
  {
   "cell_type": "code",
   "execution_count": 1,
   "id": "a022dba9",
   "metadata": {},
   "outputs": [],
   "source": [
    "import pickle\n",
    "\n",
    "# Load the best model\n",
    "with open('logistic_model.pkl', 'rb') as model_file:\n",
    "    loaded_model = pickle.load(model_file)\n",
    "\n",
    "# Load the TF-IDF vectorizer\n",
    "with open('tfidf_vectorizer.pkl', 'rb') as vectorizer_file:\n",
    "    loaded_tfidf_vectorizer = pickle.load(vectorizer_file)\n",
    "\n",
    "# Load the CountVectorizer for n-grams\n",
    "with open('ngram_vectorizer.pkl', 'rb') as ngram_file:\n",
    "    loaded_ngram_vectorizer = pickle.load(ngram_file)\n",
    "\n",
    "# Optionally load the LabelEncoder\n",
    "with open('label_encoder.pkl', 'rb') as le_file:\n",
    "    loaded_label_encoder = pickle.load(le_file)\n",
    "\n",
    "# Optionally load the combined features if needed\n",
    "with open('combined_features.pkl', 'rb') as features_file:\n",
    "    loaded_combined_features = pickle.load(features_file)\n"
   ]
  },
  {
   "cell_type": "markdown",
   "id": "9059ce24",
   "metadata": {},
   "source": [
    "3. Making Predictions\n",
    "\n",
    "Once the necessary components are loaded, the code shows how to use them to make predictions on new text input:"
   ]
  },
  {
   "cell_type": "code",
   "execution_count": 2,
   "id": "7b8701b3",
   "metadata": {},
   "outputs": [
    {
     "name": "stdout",
     "output_type": "stream",
     "text": [
      "Predicted class: ['angriness']\n"
     ]
    }
   ],
   "source": [
    "from scipy.sparse import hstack  # Make sure this is included\n",
    "# Example text input for prediction\n",
    "input_text = ['My phone screen is brighter than my future']\n",
    "\n",
    "# Preprocess the input text (vectorization)\n",
    "# Using both the TF-IDF vectorizer and the n-gram vectorizer\n",
    "input_tfidf = loaded_tfidf_vectorizer.transform(input_text)\n",
    "input_ngram = loaded_ngram_vectorizer.transform(input_text)\n",
    "\n",
    "# Combine the TF-IDF and n-gram features (same way you did it during training)\n",
    "input_combined = hstack((input_tfidf, input_ngram))\n",
    "\n",
    "# Make predictions using the loaded model\n",
    "predictions = loaded_model.predict(input_combined)\n",
    "\n",
    "# Optionally decode the predictions back to original labels if using LabelEncoder\n",
    "decoded_predictions = loaded_label_encoder.inverse_transform(predictions)\n",
    "\n",
    "print(f\"Predicted class: {decoded_predictions}\")\n"
   ]
  },
  {
   "cell_type": "code",
   "execution_count": null,
   "id": "e749cefd",
   "metadata": {},
   "outputs": [],
   "source": []
  }
 ],
 "metadata": {
  "kernelspec": {
   "display_name": "Python 3 (ipykernel)",
   "language": "python",
   "name": "python3"
  },
  "language_info": {
   "codemirror_mode": {
    "name": "ipython",
    "version": 3
   },
   "file_extension": ".py",
   "mimetype": "text/x-python",
   "name": "python",
   "nbconvert_exporter": "python",
   "pygments_lexer": "ipython3",
   "version": "3.11.7"
  }
 },
 "nbformat": 4,
 "nbformat_minor": 5
}
